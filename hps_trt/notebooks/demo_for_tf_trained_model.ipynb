{
 "cells": [
  {
   "cell_type": "markdown",
   "id": "7cb13422",
   "metadata": {},
   "source": [
    "<img src=\"http://developer.download.nvidia.com/notebooks/dlsw-notebooks/merlin_hugectr_hps-hps-tensorflow-triton-deployment/nvidia_logo.png\" style=\"width: 90px; float: right;\">\n",
    "\n",
    "# HPS TensorRT Plugin Demo for TensorFlow Trained Model"
   ]
  },
  {
   "cell_type": "markdown",
   "id": "fc7b66b1",
   "metadata": {},
   "source": [
    "## Overview\n",
    "\n",
    "This notebook demonstrates how to build and deploy the HPS-integrated TensorRT engine for the model trained with TensorFlow.\n",
    "\n",
    "For more details about HPS, please refer to [HugeCTR Hierarchical Parameter Server (HPS)](https://nvidia-merlin.github.io/HugeCTR/master/hierarchical_parameter_server/index.html)."
   ]
  },
  {
   "cell_type": "markdown",
   "id": "95b12df6",
   "metadata": {},
   "source": [
    "## Installation\n",
    "\n",
    "### Use NGC\n",
    "\n",
    "The HPS TensorRT plugin is preinstalled in the 23.06 and later [Merlin TensorFlow Container](https://catalog.ngc.nvidia.com/orgs/nvidia/teams/merlin/containers/merlin-tensorflow): `nvcr.io/nvidia/merlin/merlin-tensorflow:23.06`.\n",
    "\n",
    "You can check the existence of the required libraries by running the following Python code after launching this container."
   ]
  },
  {
   "cell_type": "code",
   "execution_count": 1,
   "id": "6cd5edcb",
   "metadata": {},
   "outputs": [],
   "source": [
    "import ctypes\n",
    "plugin_lib_name = \"/usr/local/hps_trt/lib/libhps_plugin.so\"\n",
    "plugin_handle = ctypes.CDLL(plugin_lib_name, mode=ctypes.RTLD_GLOBAL)"
   ]
  },
  {
   "cell_type": "markdown",
   "id": "605963dc",
   "metadata": {},
   "source": [
    "## Configurations\n",
    "\n",
    "First of all we specify the required configurations, e.g., the arguments needed for generating the dataset, the model parameters and the paths to save the model. We will use DLRM model which has one embedding table, bottom MLP layers, interaction layer and top MLP layers. Please note that the input to the embedding layer will be a dense key tensor of int32."
   ]
  },
  {
   "cell_type": "code",
   "execution_count": 2,
   "id": "eed1333f",
   "metadata": {},
   "outputs": [
    {
     "name": "stderr",
     "output_type": "stream",
     "text": [
      "2023-01-03 07:47:02.443077: I tensorflow/core/platform/cpu_feature_guard.cc:194] This TensorFlow binary is optimized with oneAPI Deep Neural Network Library (oneDNN) to use the following CPU instructions in performance-critical operations:  SSE3 SSE4.1 SSE4.2 AVX\n",
      "To enable them in other operations, rebuild TensorFlow with the appropriate compiler flags.\n"
     ]
    }
   ],
   "source": [
    "import os\n",
    "import numpy as np\n",
    "import tensorflow as tf\n",
    "import struct\n",
    "\n",
    "args = dict()\n",
    "\n",
    "args[\"gpu_num\"] = 1                               # the number of available GPUs\n",
    "args[\"iter_num\"] = 50                             # the number of training iteration\n",
    "args[\"slot_num\"] = 26                             # the number of feature fields in this embedding layer\n",
    "args[\"embed_vec_size\"] = 128                      # the dimension of embedding vectors\n",
    "args[\"dense_dim\"] = 13                            # the dimension of dense features\n",
    "args[\"global_batch_size\"] = 1024                  # the globally batchsize for all GPUs\n",
    "args[\"max_vocabulary_size\"] = 260000\n",
    "args[\"vocabulary_range_per_slot\"] = [[i*10000, (i+1)*10000] for i in range(26)]\n",
    "args[\"combiner\"] = \"mean\"\n",
    "\n",
    "args[\"ps_config_file\"] = \"dlrm_tf.json\"\n",
    "args[\"embedding_table_path\"] = \"dlrm_tf_sparse.model\"\n",
    "args[\"saved_path\"] = \"dlrm_tf_saved_model\"\n",
    "args[\"np_key_type\"] = np.int32\n",
    "args[\"np_vector_type\"] = np.float32\n",
    "args[\"tf_key_type\"] = tf.int32\n",
    "args[\"tf_vector_type\"] = tf.float32\n",
    "\n",
    "os.environ[\"CUDA_VISIBLE_DEVICES\"] = \",\".join(map(str, range(args[\"gpu_num\"])))"
   ]
  },
  {
   "cell_type": "code",
   "execution_count": 3,
   "id": "a127fc7a",
   "metadata": {},
   "outputs": [],
   "source": [
    "def generate_random_samples(num_samples, vocabulary_range_per_slot, dense_dim, key_dtype = args[\"np_key_type\"]):\n",
    "    keys = list()\n",
    "    for vocab_range in vocabulary_range_per_slot:\n",
    "        keys_per_slot = np.random.randint(low=vocab_range[0], high=vocab_range[1], size=(num_samples, 1), dtype=key_dtype)\n",
    "        keys.append(keys_per_slot)\n",
    "    keys = np.concatenate(np.array(keys), axis = 1)\n",
    "    numerical_features = np.random.random((num_samples, dense_dim)).astype(np.float32)\n",
    "    labels = np.random.randint(low=0, high=2, size=(num_samples, 1))\n",
    "    return keys, numerical_features, labels\n",
    "\n",
    "def tf_dataset(keys, numerical_features, labels, batchsize):\n",
    "    dataset = tf.data.Dataset.from_tensor_slices((keys, numerical_features, labels))\n",
    "    dataset = dataset.batch(batchsize, drop_remainder=True)\n",
    "    return dataset"
   ]
  },
  {
   "cell_type": "markdown",
   "id": "d597a062",
   "metadata": {},
   "source": [
    "## Train with native TF layers\n",
    "\n",
    "We define the model graph for training with native TF layers, i.e., `tf.nn.embedding_lookup`, `tf.keras.layers.Dense` and so on. We can then train the model and extract the trained weights of the embedding table."
   ]
  },
  {
   "cell_type": "code",
   "execution_count": 4,
   "id": "a8e17a47",
   "metadata": {},
   "outputs": [],
   "source": [
    "class MLP(tf.keras.layers.Layer):\n",
    "    def __init__(self,\n",
    "                arch,\n",
    "                activation='relu',\n",
    "                out_activation=None,\n",
    "                **kwargs):\n",
    "        super(MLP, self).__init__(**kwargs)\n",
    "        self.layers = []\n",
    "        index = 0\n",
    "        for units in arch[:-1]:\n",
    "            self.layers.append(tf.keras.layers.Dense(units, activation=activation, name=\"{}_{}\".format(kwargs['name'], index)))\n",
    "            index+=1\n",
    "        self.layers.append(tf.keras.layers.Dense(arch[-1], activation=out_activation, name=\"{}_{}\".format(kwargs['name'], index)))\n",
    "\n",
    "            \n",
    "    def call(self, inputs, training=True):\n",
    "        x = self.layers[0](inputs)\n",
    "        for layer in self.layers[1:]:\n",
    "            x = layer(x)\n",
    "        return x\n",
    "\n",
    "class SecondOrderFeatureInteraction(tf.keras.layers.Layer):\n",
    "    def __init__(self):\n",
    "        super(SecondOrderFeatureInteraction, self).__init__()\n",
    "\n",
    "    def call(self, inputs, num_feas):\n",
    "        dot_products = tf.reshape(tf.matmul(inputs, inputs, transpose_b=True), (-1, num_feas * num_feas))\n",
    "        indices = tf.constant([i * num_feas + j for j in range(1, num_feas) for i in range(j)])\n",
    "        flat_interactions = tf.gather(dot_products, indices, axis=1)\n",
    "        return flat_interactions\n",
    "\n",
    "class DLRM(tf.keras.models.Model):\n",
    "    def __init__(self,\n",
    "                 init_tensors,\n",
    "                 embed_vec_size,\n",
    "                 slot_num,\n",
    "                 dense_dim,\n",
    "                 arch_bot,\n",
    "                 arch_top,\n",
    "                 **kwargs):\n",
    "        super(DLRM, self).__init__(**kwargs)\n",
    "        \n",
    "\n",
    "        self.init_tensors = init_tensors\n",
    "        self.params = tf.Variable(initial_value=tf.concat(self.init_tensors, axis=0))\n",
    "        \n",
    "        self.embed_vec_size = embed_vec_size\n",
    "        self.slot_num = slot_num\n",
    "        self.dense_dim = dense_dim\n",
    "    \n",
    "        self.bot_nn = MLP(arch_bot, name = \"bottom\", out_activation='relu')\n",
    "        self.top_nn = MLP(arch_top, name = \"top\", out_activation='sigmoid')\n",
    "        self.interaction_op = SecondOrderFeatureInteraction()\n",
    "\n",
    "        self.interaction_out_dim = self.slot_num * (self.slot_num+1) // 2\n",
    "        self.reshape_layer1 = tf.keras.layers.Reshape((1, arch_bot[-1]), name = \"reshape1\")\n",
    "        self.concat1 = tf.keras.layers.Concatenate(axis=1, name = \"concat1\")\n",
    "        self.concat2 = tf.keras.layers.Concatenate(axis=1, name = \"concat2\")\n",
    "            \n",
    "    def call(self, inputs, training=True):\n",
    "        categorical_features = inputs[\"keys\"]\n",
    "        numerical_features = inputs[\"numerical_features\"]\n",
    "        \n",
    "        embedding_vector = tf.nn.embedding_lookup(params=self.params, ids=categorical_features)\n",
    "        dense_x = self.bot_nn(numerical_features)\n",
    "        concat_features = self.concat1([embedding_vector, self.reshape_layer1(dense_x)])\n",
    "        \n",
    "        Z = self.interaction_op(concat_features, self.slot_num+1)\n",
    "        z = self.concat2([dense_x, Z])\n",
    "        logit = self.top_nn(z)\n",
    "        return logit\n",
    "\n",
    "    def summary(self):\n",
    "        inputs = {\"keys\": tf.keras.Input(shape=(self.slot_num, ), dtype=args[\"tf_key_type\"], name=\"keys\"), \n",
    "                  \"numerical_features\": tf.keras.Input(shape=(self.dense_dim, ), dtype=tf.float32, name=\"numrical_features\")}\n",
    "        model = tf.keras.models.Model(inputs=inputs, outputs=self.call(inputs))\n",
    "        return model.summary()"
   ]
  },
  {
   "cell_type": "code",
   "execution_count": 5,
   "id": "fe1b2fbe",
   "metadata": {},
   "outputs": [],
   "source": [
    " def train(args):\n",
    "    init_tensors = np.ones(shape=[args[\"max_vocabulary_size\"], args[\"embed_vec_size\"]], dtype=args[\"np_vector_type\"])\n",
    "    \n",
    "    model = DLRM(init_tensors, args[\"embed_vec_size\"], args[\"slot_num\"], args[\"dense_dim\"],\n",
    "                arch_bot = [512, 256, args[\"embed_vec_size\"]],\n",
    "                arch_top = [1024, 1024, 512, 256, 1],\n",
    "                name = \"dlrm\")\n",
    "    model.summary()\n",
    "    optimizer = tf.keras.optimizers.Adam(learning_rate=0.1)\n",
    "    loss_fn = tf.keras.losses.BinaryCrossentropy()\n",
    "    \n",
    "    def _train_step(inputs, labels):\n",
    "        with tf.GradientTape() as tape:\n",
    "            logit = model(inputs)\n",
    "            loss = loss_fn(labels, logit)\n",
    "        grads = tape.gradient(loss, model.trainable_variables)\n",
    "        optimizer.apply_gradients(zip(grads, model.trainable_variables))\n",
    "        return loss, logit\n",
    "\n",
    "    keys, numerical_features, labels = generate_random_samples(args[\"global_batch_size\"]  * args[\"iter_num\"], args[\"vocabulary_range_per_slot\"], args[\"dense_dim\"], args[\"np_key_type\"])\n",
    "    dataset = tf_dataset(keys, numerical_features, labels, args[\"global_batch_size\"])\n",
    "    for i, (keys, numerical_features, labels) in enumerate(dataset):\n",
    "        inputs = {\"keys\": keys, \"numerical_features\": numerical_features}\n",
    "        loss, logit = _train_step(inputs, labels)\n",
    "        print(\"-\"*20, \"Step {}, loss: {}\".format(i, loss),  \"-\"*20)\n",
    "\n",
    "    return model"
   ]
  },
  {
   "cell_type": "code",
   "execution_count": 6,
   "id": "bc8ecf24",
   "metadata": {
    "scrolled": true
   },
   "outputs": [
    {
     "name": "stdout",
     "output_type": "stream",
     "text": [
      "WARNING:tensorflow:The following Variables were used in a Lambda layer's call (tf.compat.v1.nn.embedding_lookup), but are not present in its tracked objects:   <tf.Variable 'Variable:0' shape=(260000, 128) dtype=float32>. This is a strong indication that the Lambda layer should be rewritten as a subclassed Layer.\n"
     ]
    },
    {
     "name": "stderr",
     "output_type": "stream",
     "text": [
      "2023-01-03 07:47:04.662936: I tensorflow/core/platform/cpu_feature_guard.cc:194] This TensorFlow binary is optimized with oneAPI Deep Neural Network Library (oneDNN) to use the following CPU instructions in performance-critical operations:  SSE3 SSE4.1 SSE4.2 AVX\n",
      "To enable them in other operations, rebuild TensorFlow with the appropriate compiler flags.\n",
      "2023-01-03 07:47:05.163322: I tensorflow/core/common_runtime/gpu/gpu_device.cc:1637] Created device /job:localhost/replica:0/task:0/device:GPU:0 with 31004 MB memory:  -> device: 0, name: Tesla V100-SXM2-32GB, pci bus id: 0000:06:00.0, compute capability: 7.0\n"
     ]
    },
    {
     "name": "stdout",
     "output_type": "stream",
     "text": [
      "Model: \"model\"\n",
      "__________________________________________________________________________________________________\n",
      " Layer (type)                   Output Shape         Param #     Connected to                     \n",
      "==================================================================================================\n",
      " numrical_features (InputLayer)  [(None, 13)]        0           []                               \n",
      "                                                                                                  \n",
      " bottom (MLP)                   (None, 128)          171392      ['numrical_features[0][0]']      \n",
      "                                                                                                  \n",
      " keys (InputLayer)              [(None, 26)]         0           []                               \n",
      "                                                                                                  \n",
      " tf.compat.v1.nn.embedding_look  (None, 26, 128)     0           ['keys[0][0]']                   \n",
      " up (TFOpLambda)                                                                                  \n",
      "                                                                                                  \n",
      " reshape1 (Reshape)             (None, 1, 128)       0           ['bottom[0][0]']                 \n",
      "                                                                                                  \n",
      " concat1 (Concatenate)          (None, 27, 128)      0           ['tf.compat.v1.nn.embedding_looku\n",
      "                                                                 p[0][0]',                        \n",
      "                                                                  'reshape1[0][0]']               \n",
      "                                                                                                  \n",
      " second_order_feature_interacti  (None, 351)         0           ['concat1[0][0]']                \n",
      " on (SecondOrderFeatureInteract                                                                   \n",
      " ion)                                                                                             \n",
      "                                                                                                  \n",
      " concat2 (Concatenate)          (None, 479)          0           ['bottom[0][0]',                 \n",
      "                                                                  'second_order_feature_interactio\n",
      "                                                                 n[0][0]']                        \n",
      "                                                                                                  \n",
      " top (MLP)                      (None, 1)            2197505     ['concat2[0][0]']                \n",
      "                                                                                                  \n",
      "==================================================================================================\n",
      "Total params: 2,368,897\n",
      "Trainable params: 2,368,897\n",
      "Non-trainable params: 0\n",
      "__________________________________________________________________________________________________\n",
      "-------------------- Step 0, loss: 37.65617752075195 --------------------\n",
      "-------------------- Step 1, loss: 355382208.0 --------------------\n",
      "-------------------- Step 2, loss: 1477252.125 --------------------\n",
      "-------------------- Step 3, loss: 1909784.0 --------------------\n",
      "-------------------- Step 4, loss: 507233.625 --------------------\n",
      "-------------------- Step 5, loss: 3365.16259765625 --------------------\n",
      "-------------------- Step 6, loss: 268666.8125 --------------------\n",
      "-------------------- Step 7, loss: 1651924.25 --------------------\n",
      "-------------------- Step 8, loss: 101612.2421875 --------------------\n",
      "-------------------- Step 9, loss: 202236.03125 --------------------\n",
      "-------------------- Step 10, loss: 66273.078125 --------------------\n",
      "-------------------- Step 11, loss: 48022.0703125 --------------------\n",
      "-------------------- Step 12, loss: 73294.34375 --------------------\n",
      "-------------------- Step 13, loss: 27559.2265625 --------------------\n",
      "-------------------- Step 14, loss: 91068.890625 --------------------\n",
      "-------------------- Step 15, loss: 2597.23193359375 --------------------\n",
      "-------------------- Step 16, loss: 144474.921875 --------------------\n",
      "-------------------- Step 17, loss: 78464.734375 --------------------\n",
      "-------------------- Step 18, loss: 3672.82666015625 --------------------\n",
      "-------------------- Step 19, loss: 618.08203125 --------------------\n",
      "-------------------- Step 20, loss: 9272.6083984375 --------------------\n",
      "-------------------- Step 21, loss: 12456.2373046875 --------------------\n",
      "-------------------- Step 22, loss: 278.4212646484375 --------------------\n",
      "-------------------- Step 23, loss: 1402.9920654296875 --------------------\n",
      "-------------------- Step 24, loss: 1270.646484375 --------------------\n",
      "-------------------- Step 25, loss: 24.113067626953125 --------------------\n",
      "-------------------- Step 26, loss: 1.259315848350525 --------------------\n",
      "-------------------- Step 27, loss: 0.8482578992843628 --------------------\n",
      "-------------------- Step 28, loss: 0.6932626366615295 --------------------\n",
      "-------------------- Step 29, loss: 0.8282428979873657 --------------------\n",
      "-------------------- Step 30, loss: 0.8464676141738892 --------------------\n",
      "-------------------- Step 31, loss: 0.7537561655044556 --------------------\n",
      "-------------------- Step 32, loss: 0.7004175782203674 --------------------\n",
      "-------------------- Step 33, loss: 820.9553833007812 --------------------\n",
      "-------------------- Step 34, loss: 0.9226191639900208 --------------------\n",
      "-------------------- Step 35, loss: 1.0884783267974854 --------------------\n",
      "-------------------- Step 36, loss: 0.965215265750885 --------------------\n",
      "-------------------- Step 37, loss: 0.7583897709846497 --------------------\n",
      "-------------------- Step 38, loss: 0.737635612487793 --------------------\n",
      "-------------------- Step 39, loss: 0.8850047588348389 --------------------\n",
      "-------------------- Step 40, loss: 0.8901631236076355 --------------------\n",
      "-------------------- Step 41, loss: 0.7397541999816895 --------------------\n",
      "-------------------- Step 42, loss: 0.7126980423927307 --------------------\n",
      "-------------------- Step 43, loss: 0.8687698245048523 --------------------\n",
      "-------------------- Step 44, loss: 0.8077254295349121 --------------------\n",
      "-------------------- Step 45, loss: 0.6924254298210144 --------------------\n",
      "-------------------- Step 46, loss: 0.8170604109764099 --------------------\n",
      "-------------------- Step 47, loss: 0.7409390211105347 --------------------\n",
      "-------------------- Step 48, loss: 0.6984725594520569 --------------------\n",
      "-------------------- Step 49, loss: 0.7613609433174133 --------------------\n"
     ]
    },
    {
     "name": "stderr",
     "output_type": "stream",
     "text": [
      "WARNING:absl:Found untraced functions such as bottom_0_layer_call_fn, bottom_0_layer_call_and_return_conditional_losses, bottom_1_layer_call_fn, bottom_1_layer_call_and_return_conditional_losses, bottom_2_layer_call_fn while saving (showing 5 of 16). These functions will not be directly callable after loading.\n"
     ]
    },
    {
     "name": "stdout",
     "output_type": "stream",
     "text": [
      "INFO:tensorflow:Assets written to: dlrm_tf_saved_model/assets\n"
     ]
    },
    {
     "name": "stderr",
     "output_type": "stream",
     "text": [
      "INFO:tensorflow:Assets written to: dlrm_tf_saved_model/assets\n"
     ]
    }
   ],
   "source": [
    "trained_model = train(args)\n",
    "weights_list = trained_model.get_weights()\n",
    "embedding_weights = weights_list[-1]\n",
    "trained_model.save(args[\"saved_path\"])"
   ]
  },
  {
   "cell_type": "code",
   "execution_count": 7,
   "id": "3fbf1e53",
   "metadata": {},
   "outputs": [],
   "source": [
    "# Release the occupied GPU memory by TensorFlow and Keras\n",
    "from numba import cuda\n",
    "cuda.select_device(0)\n",
    "cuda.close()"
   ]
  },
  {
   "cell_type": "markdown",
   "id": "2bbd4051",
   "metadata": {},
   "source": [
    "## Build the HPS-integrated TensorRT engine\n",
    "In order to use HPS in the inference stage, we need to convert the embedding weights to the formats required by HPS first and create JSON configuration file for HPS.\n",
    "\n",
    "Then we convert the TF saved model to ONNX, and employ the ONNX GraphSurgoen tool to replace the native TF embedding lookup layer with the placeholder of HPS TensorRT plugin layer.\n",
    "\n",
    "After that, we can build the TensorRT engine, which is comprised of the HPS TensorRT plugin layer and the dense network."
   ]
  },
  {
   "cell_type": "markdown",
   "id": "e5510a6b",
   "metadata": {},
   "source": [
    "### Step1: Prepare sparse model and JSON configuration file for HPS\n",
    "\n",
    "Please note that the storage format in the `dlrm_tf_sparse.model/key` file is int64, while the HPS TensorRT plugin currently only support int32 when loading the keys into memory. There is no overflow since the key value range is 0~260000."
   ]
  },
  {
   "cell_type": "code",
   "execution_count": 8,
   "id": "99d772bf",
   "metadata": {},
   "outputs": [],
   "source": [
    "def convert_to_sparse_model(embeddings_weights, embedding_table_path, embedding_vec_size):\n",
    "    os.system(\"mkdir -p {}\".format(embedding_table_path))\n",
    "    with open(\"{}/key\".format(embedding_table_path), 'wb') as key_file, \\\n",
    "        open(\"{}/emb_vector\".format(embedding_table_path), 'wb') as vec_file:\n",
    "      for key in range(embeddings_weights.shape[0]):\n",
    "        vec = embeddings_weights[key]\n",
    "        key_struct = struct.pack('q', key)\n",
    "        vec_struct = struct.pack(str(embedding_vec_size) + \"f\", *vec)\n",
    "        key_file.write(key_struct)\n",
    "        vec_file.write(vec_struct)"
   ]
  },
  {
   "cell_type": "code",
   "execution_count": 9,
   "id": "6baeb83a",
   "metadata": {},
   "outputs": [],
   "source": [
    "convert_to_sparse_model(embedding_weights, args[\"embedding_table_path\"], args[\"embed_vec_size\"])"
   ]
  },
  {
   "cell_type": "code",
   "execution_count": 10,
   "id": "9248e956",
   "metadata": {},
   "outputs": [
    {
     "name": "stdout",
     "output_type": "stream",
     "text": [
      "Overwriting dlrm_tf.json\n"
     ]
    }
   ],
   "source": [
    "%%writefile dlrm_tf.json\n",
    "{\n",
    "    \"supportlonglong\": false,\n",
    "    \"models\": [{\n",
    "        \"model\": \"dlrm\",\n",
    "        \"sparse_files\": [\"dlrm_tf_sparse.model\"],\n",
    "        \"num_of_worker_buffer_in_pool\": 3,\n",
    "        \"embedding_table_names\":[\"sparse_embedding0\"],\n",
    "        \"embedding_vecsize_per_table\": [128],\n",
    "        \"maxnum_catfeature_query_per_table_per_sample\": [26],\n",
    "        \"default_value_for_each_table\": [1.0],\n",
    "        \"deployed_device_list\": [0],\n",
    "        \"max_batch_size\": 1024,\n",
    "        \"cache_refresh_percentage_per_iteration\": 0.2,\n",
    "        \"hit_rate_threshold\": 1.0,\n",
    "        \"gpucacheper\": 1.0,\n",
    "        \"gpucache\": true\n",
    "        }\n",
    "    ]\n",
    "}"
   ]
  },
  {
   "cell_type": "markdown",
   "id": "ad232f01",
   "metadata": {},
   "source": [
    "### Step2: Convert to ONNX and do ONNX graph surgery"
   ]
  },
  {
   "cell_type": "code",
   "execution_count": 11,
   "id": "f9631307",
   "metadata": {},
   "outputs": [
    {
     "name": "stdout",
     "output_type": "stream",
     "text": [
      "2023-01-03 07:47:30.112237: I tensorflow/core/platform/cpu_feature_guard.cc:194] This TensorFlow binary is optimized with oneAPI Deep Neural Network Library (oneDNN) to use the following CPU instructions in performance-critical operations:  SSE3 SSE4.1 SSE4.2 AVX\n",
      "To enable them in other operations, rebuild TensorFlow with the appropriate compiler flags.\n",
      "/usr/lib/python3.8/runpy.py:127: RuntimeWarning: 'tf2onnx.convert' found in sys.modules after import of package 'tf2onnx', but prior to execution of 'tf2onnx.convert'; this may result in unpredictable behaviour\n",
      "  warn(RuntimeWarning(msg))\n",
      "2023-01-03 07:47:32,420 - WARNING - ***IMPORTANT*** Installed protobuf is not cpp accelerated. Conversion will be extremely slow. See https://github.com/onnx/tensorflow-onnx/issues/1557\n",
      "2023-01-03 07:47:33,012 - WARNING - '--tag' not specified for saved_model. Using --tag serve\n",
      "2023-01-03 07:47:35,656 - INFO - Signatures found in model: [serving_default].\n",
      "2023-01-03 07:47:35,656 - WARNING - '--signature_def' not specified, using first signature: serving_default\n",
      "2023-01-03 07:47:35,656 - INFO - Output names: ['output_1']\n",
      "2023-01-03 07:47:41,580 - INFO - Using tensorflow=2.10.0, onnx=1.13.0, tf2onnx=1.13.0/2c1db5\n",
      "2023-01-03 07:47:41,580 - INFO - Using opset <onnx, 13>\n",
      "2023-01-03 07:47:42,881 - INFO - Computed 0 values for constant folding\n",
      "2023-01-03 07:47:43,913 - INFO - Optimizing ONNX model\n",
      "2023-01-03 07:47:44,115 - INFO - After optimization: Cast -3 (3->0), Concat -1 (3->2), Const -15 (35->20), Identity -2 (2->0), Shape -1 (1->0), Slice -1 (1->0), Squeeze -1 (1->0), Unsqueeze -3 (3->0)\n",
      "2023-01-03 07:47:45,507 - INFO - \n",
      "2023-01-03 07:47:45,507 - INFO - Successfully converted TensorFlow model dlrm_tf_saved_model to ONNX\n",
      "2023-01-03 07:47:45,508 - INFO - Model inputs: ['keys', 'numerical_features']\n",
      "2023-01-03 07:47:45,508 - INFO - Model outputs: ['output_1']\n",
      "2023-01-03 07:47:45,508 - INFO - ONNX model is saved at dlrm_tf.onnx\n"
     ]
    }
   ],
   "source": [
    "# convert TF SavedModel to ONNX\n",
    "!python -m tf2onnx.convert --saved-model dlrm_tf_saved_model --output dlrm_tf.onnx"
   ]
  },
  {
   "cell_type": "code",
   "execution_count": 12,
   "id": "7c304f7c",
   "metadata": {},
   "outputs": [],
   "source": [
    "# ONNX graph surgery to insert HPS the TensorRT plugin placeholder\n",
    "import onnx_graphsurgeon as gs\n",
    "from onnx import  shape_inference\n",
    "import numpy as np\n",
    "import onnx\n",
    "\n",
    "graph = gs.import_onnx(onnx.load(\"dlrm_tf.onnx\"))\n",
    "saved = []\n",
    "\n",
    "for node in graph.nodes:\n",
    "    if node.name == \"StatefulPartitionedCall/dlrm/embedding_lookup\":\n",
    "        categorical_features = gs.Variable(name=\"categorical_features\", dtype=np.int32, shape=(\"unknown\", 26))\n",
    "        hps_node = gs.Node(op=\"HPS_TRT\", attrs={\"ps_config_file\": \"dlrm_tf.json\\0\", \"model_name\": \"dlrm\\0\", \"table_id\": 0, \"emb_vec_size\": 128}, \n",
    "                           inputs=[categorical_features], outputs=[node.outputs[0]])\n",
    "        graph.nodes.append(hps_node)\n",
    "        saved.append(categorical_features)\n",
    "        node.outputs.clear()\n",
    "for i in graph.inputs:\n",
    "    if i.name == \"numerical_features\":\n",
    "        saved.append(i)\n",
    "graph.inputs = saved\n",
    "\n",
    "graph.cleanup().toposort()\n",
    "onnx.save(gs.export_onnx(graph), \"dlrm_tf_with_hps.onnx\")"
   ]
  },
  {
   "cell_type": "markdown",
   "id": "52d5f090",
   "metadata": {},
   "source": [
    "### Step3: Build the TensorRT engine"
   ]
  },
  {
   "cell_type": "code",
   "execution_count": 13,
   "id": "8da1a8fd",
   "metadata": {},
   "outputs": [
    {
     "name": "stdout",
     "output_type": "stream",
     "text": [
      "[01/03/2023-07:47:52] [TRT] [I] [MemUsageChange] Init CUDA: CPU +268, GPU +0, now: CPU 1636, GPU 497 (MiB)\n",
      "[01/03/2023-07:47:54] [TRT] [I] [MemUsageChange] Init builder kernel library: CPU +170, GPU +46, now: CPU 1860, GPU 543 (MiB)\n",
      "[01/03/2023-07:47:54] [TRT] [W] CUDA lazy loading is not enabled. Enabling it can significantly reduce device memory usage. See `CUDA_MODULE_LOADING` in https://docs.nvidia.com/cuda/cuda-c-programming-guide/index.html#env-vars\n",
      "[01/03/2023-07:47:54] [TRT] [W] onnx2trt_utils.cpp:377: Your ONNX model has been generated with INT64 weights, while TensorRT does not natively support INT64. Attempting to cast down to INT32.\n",
      "[01/03/2023-07:47:54] [TRT] [I] No importer registered for op: HPS_TRT. Attempting to import as plugin.\n",
      "[01/03/2023-07:47:54] [TRT] [I] Searching for plugin: HPS_TRT, plugin_version: 1, plugin_namespace: \n",
      "=====================================================HPS Parse====================================================\n",
      "[HCTR][07:47:54.544][INFO][RK0][main]: dense_file is not specified using default: \n",
      "[HCTR][07:47:54.545][INFO][RK0][main]: num_of_refresher_buffer_in_pool is not specified using default: 1\n",
      "[HCTR][07:47:54.545][INFO][RK0][main]: maxnum_des_feature_per_sample is not specified using default: 26\n",
      "[HCTR][07:47:54.545][INFO][RK0][main]: refresh_delay is not specified using default: 0\n",
      "[HCTR][07:47:54.545][INFO][RK0][main]: refresh_interval is not specified using default: 0\n",
      "[HCTR][07:47:54.545][INFO][RK0][main]: use_static_table is not specified using default: 0\n",
      "====================================================HPS Create====================================================\n",
      "[HCTR][07:47:54.545][INFO][RK0][main]: Creating HashMap CPU database backend...\n",
      "[HCTR][07:47:54.545][DEBUG][RK0][main]: Created blank database backend in local memory!\n",
      "[HCTR][07:47:54.545][INFO][RK0][main]: Volatile DB: initial cache rate = 1\n",
      "[HCTR][07:47:54.545][INFO][RK0][main]: Volatile DB: cache missed embeddings = 0\n",
      "[HCTR][07:47:54.545][DEBUG][RK0][main]: Created raw model loader in local memory!\n",
      "[HCTR][07:47:54.545][INFO][RK0][main]: Using Local file system backend.\n",
      "[HCTR][07:47:54.968][INFO][RK0][main]: Table: hps_et.dlrm.sparse_embedding0; cached 260000 / 260000 embeddings in volatile database (HashMapBackend); load: 260000 / 18446744073709551615 (0.00%).\n",
      "[HCTR][07:47:54.978][DEBUG][RK0][main]: Real-time subscribers created!\n",
      "[HCTR][07:47:54.978][INFO][RK0][main]: Creating embedding cache in device 0.\n",
      "[HCTR][07:47:54.985][INFO][RK0][main]: Model name: dlrm\n",
      "[HCTR][07:47:54.985][INFO][RK0][main]: Max batch size: 1024\n",
      "[HCTR][07:47:54.985][INFO][RK0][main]: Number of embedding tables: 1\n",
      "[HCTR][07:47:54.985][INFO][RK0][main]: Use GPU embedding cache: True, cache size percentage: 1.000000\n",
      "[HCTR][07:47:54.985][INFO][RK0][main]: Use static table: False\n",
      "[HCTR][07:47:54.985][INFO][RK0][main]: Use I64 input key: False\n",
      "[HCTR][07:47:54.985][INFO][RK0][main]: Configured cache hit rate threshold: 1.000000\n",
      "[HCTR][07:47:54.985][INFO][RK0][main]: The size of thread pool: 80\n",
      "[HCTR][07:47:54.985][INFO][RK0][main]: The size of worker memory pool: 3\n",
      "[HCTR][07:47:54.985][INFO][RK0][main]: The size of refresh memory pool: 1\n",
      "[HCTR][07:47:54.985][INFO][RK0][main]: The refresh percentage : 0.200000\n",
      "[HCTR][07:47:55.028][DEBUG][RK0][main]: Created raw model loader in local memory!\n",
      "[HCTR][07:47:55.028][INFO][RK0][main]: Using Local file system backend.\n",
      "[HCTR][07:47:55.165][INFO][RK0][main]: EC initialization for model: \"dlrm\", num_tables: 1\n",
      "[HCTR][07:47:55.165][INFO][RK0][main]: EC initialization on device: 0\n",
      "[HCTR][07:47:55.197][INFO][RK0][main]: Creating lookup session for dlrm on device: 0\n",
      "[01/03/2023-07:47:55] [TRT] [I] Successfully created plugin: HPS_TRT\n",
      "[01/03/2023-07:47:55] [TRT] [I] [MemUsageChange] Init cuBLAS/cuBLASLt: CPU +88, GPU +46, now: CPU 6129, GPU 835 (MiB)\n",
      "[01/03/2023-07:47:55] [TRT] [I] [MemUsageChange] Init cuDNN: CPU +115, GPU +52, now: CPU 6244, GPU 887 (MiB)\n",
      "[01/03/2023-07:47:55] [TRT] [I] Local timing cache in use. Profiling results in this builder pass will not be stored.\n",
      "[01/03/2023-07:49:04] [TRT] [I] Total Activation Memory: 34103362048\n",
      "[01/03/2023-07:49:04] [TRT] [I] Detected 2 inputs and 1 output network tensors.\n",
      "[01/03/2023-07:49:05] [TRT] [I] Total Host Persistent Memory: 416\n",
      "[01/03/2023-07:49:05] [TRT] [I] Total Device Persistent Memory: 0\n",
      "[01/03/2023-07:49:05] [TRT] [I] Total Scratch Memory: 45142016\n",
      "[01/03/2023-07:49:05] [TRT] [I] [MemUsageStats] Peak memory usage of TRT CPU/GPU memory allocators: CPU 0 MiB, GPU 75 MiB\n",
      "[01/03/2023-07:49:05] [TRT] [I] [BlockAssignment] Started assigning block shifts. This will take 3 steps to complete.\n",
      "[01/03/2023-07:49:05] [TRT] [I] [BlockAssignment] Algorithm ShiftNTopDown took 0.013464ms to assign 3 blocks to 3 nodes requiring 58774016 bytes.\n",
      "[01/03/2023-07:49:05] [TRT] [I] Total Activation Memory: 58774016\n",
      "[01/03/2023-07:49:05] [TRT] [I] [MemUsageChange] Init cuBLAS/cuBLASLt: CPU +0, GPU +8, now: CPU 6533, GPU 1035 (MiB)\n",
      "[01/03/2023-07:49:05] [TRT] [I] [MemUsageChange] Init cuDNN: CPU +0, GPU +8, now: CPU 6533, GPU 1043 (MiB)\n",
      "[01/03/2023-07:49:05] [TRT] [I] [MemUsageChange] TensorRT-managed allocation in building engine: CPU +0, GPU +32, now: CPU 0, GPU 32 (MiB)\n",
      "Successfully build the TensorRT engine\n"
     ]
    }
   ],
   "source": [
    "# build the TensorRT engine based on dlrm_tf_with_hps.onnx\n",
    "import tensorrt as trt\n",
    "import ctypes\n",
    "\n",
    "plugin_lib_name = \"/usr/local/hps_trt/lib/libhps_plugin.so\"\n",
    "handle = ctypes.CDLL(plugin_lib_name, mode=ctypes.RTLD_GLOBAL)\n",
    "\n",
    "TRT_LOGGER = trt.Logger(trt.Logger.INFO)\n",
    "EXPLICIT_BATCH = 1 << (int)(trt.NetworkDefinitionCreationFlag.EXPLICIT_BATCH)\n",
    "\n",
    "def build_engine_from_onnx(onnx_model_path):\n",
    "    with trt.Builder(TRT_LOGGER) as builder, builder.create_network(EXPLICIT_BATCH) as network, trt.OnnxParser(network, TRT_LOGGER) as parser, builder.create_builder_config() as builder_config:        \n",
    "        model = open(onnx_model_path, 'rb')\n",
    "        parser.parse(model.read())\n",
    "\n",
    "        profile = builder.create_optimization_profile()        \n",
    "        profile.set_shape(\"categorical_features\", (1, 26), (1024, 26), (1024, 26))    \n",
    "        profile.set_shape(\"numerical_features\", (1, 13), (1024, 13), (1024, 13))\n",
    "        builder_config.add_optimization_profile(profile)\n",
    "        engine = builder.build_serialized_network(network, builder_config)\n",
    "        return engine\n",
    "\n",
    "serialized_engine = build_engine_from_onnx(\"dlrm_tf_with_hps.onnx\")\n",
    "with open(\"dlrm_tf_with_hps.trt\", \"wb\") as fout:\n",
    "    fout.write(serialized_engine)\n",
    "print(\"Successfully build the TensorRT engine\")"
   ]
  },
  {
   "cell_type": "markdown",
   "id": "cd1437e3",
   "metadata": {},
   "source": [
    "## Deploy HPS-integrated TensorRT engine on Triton\n",
    "\n",
    "In order to deploy the TensorRT engine with the Triton TensorRT backend, we need to create the model repository and define the `config.pbtxt` first."
   ]
  },
  {
   "cell_type": "code",
   "execution_count": 14,
   "id": "9947c0a9",
   "metadata": {},
   "outputs": [],
   "source": [
    "!mkdir -p model_repo/dlrm_tf_with_hps/1\n",
    "!mv dlrm_tf_with_hps.trt model_repo/dlrm_tf_with_hps/1"
   ]
  },
  {
   "cell_type": "code",
   "execution_count": 15,
   "id": "b73f9b05",
   "metadata": {},
   "outputs": [
    {
     "name": "stdout",
     "output_type": "stream",
     "text": [
      "Writing model_repo/dlrm_tf_with_hps/config.pbtxt\n"
     ]
    }
   ],
   "source": [
    "%%writefile model_repo/dlrm_tf_with_hps/config.pbtxt\n",
    "\n",
    "platform: \"tensorrt_plan\"\n",
    "default_model_filename: \"dlrm_tf_with_hps.trt\"\n",
    "backend: \"tensorrt\"\n",
    "max_batch_size: 0\n",
    "input [\n",
    "  {\n",
    "    name: \"categorical_features\"\n",
    "    data_type: TYPE_INT32\n",
    "    dims: [-1,26]\n",
    "  },\n",
    "  {\n",
    "    name: \"numerical_features\"\n",
    "    data_type: TYPE_FP32\n",
    "    dims: [-1,13]\n",
    "  }\n",
    "]\n",
    "output [\n",
    "  {\n",
    "      name: \"output_1\"\n",
    "      data_type: TYPE_FP32\n",
    "      dims: [-1,1]\n",
    "  }\n",
    "]\n",
    "instance_group [\n",
    "  {\n",
    "    count: 1\n",
    "    kind: KIND_GPU\n",
    "    gpus:[0]\n",
    "\n",
    "  }\n",
    "]\n"
   ]
  },
  {
   "cell_type": "code",
   "execution_count": 16,
   "id": "de7f8b12",
   "metadata": {},
   "outputs": [
    {
     "name": "stdout",
     "output_type": "stream",
     "text": [
      "\u001b[01;34mmodel_repo/dlrm_tf_with_hps\u001b[00m\r\n",
      "├── \u001b[01;34m1\u001b[00m\r\n",
      "│   └── dlrm_tf_with_hps.trt\r\n",
      "└── config.pbtxt\r\n",
      "\r\n",
      "1 directory, 2 files\r\n"
     ]
    }
   ],
   "source": [
    "!tree model_repo/dlrm_tf_with_hps"
   ]
  },
  {
   "cell_type": "markdown",
   "id": "57235f3f",
   "metadata": {},
   "source": [
    "We can then launch the Triton inference server using the TensorRT backend. Please note that `LD_PRELOAD` is utilized to load the custom TensorRT plugin (i.e., HPS TensorRT plugin) into Triton.\n",
    "\n",
    "Note: `Since Background processes not supported by Jupyter, please launch the Triton Server according to the following command independently in the background`.\n",
    "\n",
    "> **LD_PRELOAD=/usr/local/hps_trt/lib/libhps_plugin.so tritonserver --model-repository=/hugectr/hps_trt/notebooks/model_repo/ --load-model=dlrm_tf_with_hps --model-control-mode=explicit**\n",
    "\n",
    "If you successfully started tritonserver, you should see a log similar to following:\n",
    "\n",
    "\n",
    "```bash\n",
    "+----------+--------------------------------+--------------------------------+\n",
    "| Backend  | Path                           | Config                         |\n",
    "+----------+--------------------------------+--------------------------------+\n",
    "| tensorrt | /opt/tritonserver/backends/ten | {\"cmdline\":{\"auto-complete-con |\n",
    "|          | sorrt/libtriton_tensorrt.so    | fig\":\"true\",\"min-compute-capab |\n",
    "|          |                                | ility\":\"6.000000\",\"backend-dir |\n",
    "|          |                                | ectory\":\"/opt/tritonserver/bac |\n",
    "|          |                                | kends\",\"default-max-batch-size |\n",
    "|          |                                | \":\"4\"}}                        |\n",
    "|          |                                |                                |\n",
    "+----------+--------------------------------+--------------------------------+\n",
    "\n",
    "+------------------+---------+--------+\n",
    "| Model            | Version | Status |\n",
    "+------------------+---------+--------+\n",
    "| dlrm_tf_with_hps | 1       | READY  |\n",
    "+------------------+---------+--------+\n",
    "```\n",
    "\n",
    "We can then send the requests to the Triton inference server using the HTTP client."
   ]
  },
  {
   "cell_type": "code",
   "execution_count": 17,
   "id": "398dc8ed",
   "metadata": {},
   "outputs": [
    {
     "name": "stdout",
     "output_type": "stream",
     "text": [
      "Prediction result is \n",
      "[[0.6404852]\n",
      " [0.6404852]\n",
      " [0.6404852]\n",
      " ...\n",
      " [0.6404852]\n",
      " [0.6404852]\n",
      " [0.6404852]]\n",
      "Response details:\n",
      "{'model_name': 'dlrm_tf_with_hps', 'model_version': '1', 'outputs': [{'name': 'output_1', 'datatype': 'FP32', 'shape': [1024, 1], 'parameters': {'binary_data_size': 4096}}]}\n"
     ]
    }
   ],
   "source": [
    "import os\n",
    "import shutil\n",
    "import numpy as np\n",
    "import tritonclient.http as httpclient\n",
    "from tritonclient.utils import *\n",
    "\n",
    "BATCH_SIZE = 1024\n",
    "\n",
    "categorical_feature = np.random.randint(0,260000,size=(BATCH_SIZE,26)).astype(np.int32)\n",
    "numerical_feature = np.random.random((BATCH_SIZE, 13)).astype(np.float32)\n",
    "\n",
    "inputs = [\n",
    "    httpclient.InferInput(\"categorical_features\", \n",
    "                          categorical_feature.shape,\n",
    "                          np_to_triton_dtype(np.int32)),\n",
    "    httpclient.InferInput(\"numerical_features\", \n",
    "                          numerical_feature.shape,\n",
    "                          np_to_triton_dtype(np.float32)),                          \n",
    "]\n",
    "inputs[0].set_data_from_numpy(categorical_feature)\n",
    "inputs[1].set_data_from_numpy(numerical_feature)\n",
    "\n",
    "\n",
    "outputs = [\n",
    "    httpclient.InferRequestedOutput(\"output_1\")\n",
    "]\n",
    "\n",
    "model_name = \"dlrm_tf_with_hps\"\n",
    "\n",
    "with httpclient.InferenceServerClient(\"localhost:8000\") as client:\n",
    "    response = client.infer(model_name,\n",
    "                            inputs,\n",
    "                            outputs=outputs)\n",
    "    result = response.get_response()\n",
    "    \n",
    "    print(\"Prediction result is \\n{}\".format(response.as_numpy(\"output_1\")))\n",
    "    print(\"Response details:\\n{}\".format(result))\n"
   ]
  }
 ],
 "metadata": {
  "kernelspec": {
   "display_name": "Python 3 (ipykernel)",
   "language": "python",
   "name": "python3"
  },
  "language_info": {
   "codemirror_mode": {
    "name": "ipython",
    "version": 3
   },
   "file_extension": ".py",
   "mimetype": "text/x-python",
   "name": "python",
   "nbconvert_exporter": "python",
   "pygments_lexer": "ipython3",
   "version": "3.8.10"
  }
 },
 "nbformat": 4,
 "nbformat_minor": 5
}
